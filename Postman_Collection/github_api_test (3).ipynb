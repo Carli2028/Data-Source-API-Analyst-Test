{
  "nbformat": 4,
  "nbformat_minor": 0,
  "metadata": {
    "colab": {
      "provenance": []
    },
    "kernelspec": {
      "name": "python3",
      "display_name": "Python 3"
    },
    "language_info": {
      "name": "python"
    }
  },
  "cells": [
    {
      "cell_type": "code",
      "source": [
        "import requests\n",
        "import getpass\n",
        "\n",
        "# AUTHORIZATION HEADERS - token oculto\n",
        "GITHUB_TOKEN = getpass.getpass(\"Enter your GitHub token: \")\n",
        "\n",
        "headers = {\n",
        "    \"Authorization\": f\"Bearer {GITHUB_TOKEN}\",\n",
        "    \"Accept\": \"application/vnd.github+json\",\n",
        "    \"X-GitHub-Api-Version\": \"2022-11-28\"\n",
        "}\n",
        "\n",
        "# Endpoint: Buscar repos públicos con la palabra \"data\"\n",
        "url = \"https://api.github.com/search/repositories?q=data&per_page=5\"\n",
        "\n",
        "# Hacer la solicitud\n",
        "response = requests.get(url, headers=headers)\n",
        "\n",
        "# Mostrar resultado\n",
        "print(\"Status code:\", response.status_code)\n",
        "print(\"JSON Response:\")\n",
        "print(response.json())\n",
        "\n"
      ],
      "metadata": {
        "colab": {
          "base_uri": "https://localhost:8080/"
        },
        "id": "_xSul6-i8WCO",
        "outputId": "55594a33-2ac6-416a-db56-054434f5a638"
      },
      "execution_count": 3,
      "outputs": [
        {
          "output_type": "stream",
          "name": "stdout",
          "text": [
            "Enter your GitHub token: ··········\n",
            "Status code: 200\n",
            "JSON Response:\n",
            "{'total_count': 5692589, 'incomplete_results': False, 'items': [{'id': 17829481, 'node_id': 'MDEwOlJlcG9zaXRvcnkxNzgyOTQ4MQ==', 'name': 'data', 'full_name': 'fivethirtyeight/data', 'private': False, 'owner': {'login': 'fivethirtyeight', 'id': 6267336, 'node_id': 'MDEyOk9yZ2FuaXphdGlvbjYyNjczMzY=', 'avatar_url': 'https://avatars.githubusercontent.com/u/6267336?v=4', 'gravatar_id': '', 'url': 'https://api.github.com/users/fivethirtyeight', 'html_url': 'https://github.com/fivethirtyeight', 'followers_url': 'https://api.github.com/users/fivethirtyeight/followers', 'following_url': 'https://api.github.com/users/fivethirtyeight/following{/other_user}', 'gists_url': 'https://api.github.com/users/fivethirtyeight/gists{/gist_id}', 'starred_url': 'https://api.github.com/users/fivethirtyeight/starred{/owner}{/repo}', 'subscriptions_url': 'https://api.github.com/users/fivethirtyeight/subscriptions', 'organizations_url': 'https://api.github.com/users/fivethirtyeight/orgs', 'repos_url': 'https://api.github.com/users/fivethirtyeight/repos', 'events_url': 'https://api.github.com/users/fivethirtyeight/events{/privacy}', 'received_events_url': 'https://api.github.com/users/fivethirtyeight/received_events', 'type': 'Organization', 'user_view_type': 'public', 'site_admin': False}, 'html_url': 'https://github.com/fivethirtyeight/data', 'description': 'Data and code behind the articles and graphics at FiveThirtyEight', 'fork': False, 'url': 'https://api.github.com/repos/fivethirtyeight/data', 'forks_url': 'https://api.github.com/repos/fivethirtyeight/data/forks', 'keys_url': 'https://api.github.com/repos/fivethirtyeight/data/keys{/key_id}', 'collaborators_url': 'https://api.github.com/repos/fivethirtyeight/data/collaborators{/collaborator}', 'teams_url': 'https://api.github.com/repos/fivethirtyeight/data/teams', 'hooks_url': 'https://api.github.com/repos/fivethirtyeight/data/hooks', 'issue_events_url': 'https://api.github.com/repos/fivethirtyeight/data/issues/events{/number}', 'events_url': 'https://api.github.com/repos/fivethirtyeight/data/events', 'assignees_url': 'https://api.github.com/repos/fivethirtyeight/data/assignees{/user}', 'branches_url': 'https://api.github.com/repos/fivethirtyeight/data/branches{/branch}', 'tags_url': 'https://api.github.com/repos/fivethirtyeight/data/tags', 'blobs_url': 'https://api.github.com/repos/fivethirtyeight/data/git/blobs{/sha}', 'git_tags_url': 'https://api.github.com/repos/fivethirtyeight/data/git/tags{/sha}', 'git_refs_url': 'https://api.github.com/repos/fivethirtyeight/data/git/refs{/sha}', 'trees_url': 'https://api.github.com/repos/fivethirtyeight/data/git/trees{/sha}', 'statuses_url': 'https://api.github.com/repos/fivethirtyeight/data/statuses/{sha}', 'languages_url': 'https://api.github.com/repos/fivethirtyeight/data/languages', 'stargazers_url': 'https://api.github.com/repos/fivethirtyeight/data/stargazers', 'contributors_url': 'https://api.github.com/repos/fivethirtyeight/data/contributors', 'subscribers_url': 'https://api.github.com/repos/fivethirtyeight/data/subscribers', 'subscription_url': 'https://api.github.com/repos/fivethirtyeight/data/subscription', 'commits_url': 'https://api.github.com/repos/fivethirtyeight/data/commits{/sha}', 'git_commits_url': 'https://api.github.com/repos/fivethirtyeight/data/git/commits{/sha}', 'comments_url': 'https://api.github.com/repos/fivethirtyeight/data/comments{/number}', 'issue_comment_url': 'https://api.github.com/repos/fivethirtyeight/data/issues/comments{/number}', 'contents_url': 'https://api.github.com/repos/fivethirtyeight/data/contents/{+path}', 'compare_url': 'https://api.github.com/repos/fivethirtyeight/data/compare/{base}...{head}', 'merges_url': 'https://api.github.com/repos/fivethirtyeight/data/merges', 'archive_url': 'https://api.github.com/repos/fivethirtyeight/data/{archive_format}{/ref}', 'downloads_url': 'https://api.github.com/repos/fivethirtyeight/data/downloads', 'issues_url': 'https://api.github.com/repos/fivethirtyeight/data/issues{/number}', 'pulls_url': 'https://api.github.com/repos/fivethirtyeight/data/pulls{/number}', 'milestones_url': 'https://api.github.com/repos/fivethirtyeight/data/milestones{/number}', 'notifications_url': 'https://api.github.com/repos/fivethirtyeight/data/notifications{?since,all,participating}', 'labels_url': 'https://api.github.com/repos/fivethirtyeight/data/labels{/name}', 'releases_url': 'https://api.github.com/repos/fivethirtyeight/data/releases{/id}', 'deployments_url': 'https://api.github.com/repos/fivethirtyeight/data/deployments', 'created_at': '2014-03-17T13:49:17Z', 'updated_at': '2025-07-10T22:18:33Z', 'pushed_at': '2025-02-25T19:40:33Z', 'git_url': 'git://github.com/fivethirtyeight/data.git', 'ssh_url': 'git@github.com:fivethirtyeight/data.git', 'clone_url': 'https://github.com/fivethirtyeight/data.git', 'svn_url': 'https://github.com/fivethirtyeight/data', 'homepage': 'https://data.fivethirtyeight.com/', 'size': 162076, 'stargazers_count': 17119, 'watchers_count': 17119, 'language': 'Jupyter Notebook', 'has_issues': True, 'has_projects': False, 'has_downloads': True, 'has_wiki': True, 'has_pages': False, 'has_discussions': False, 'forks_count': 11140, 'mirror_url': None, 'archived': False, 'disabled': False, 'open_issues_count': 19, 'license': {'key': 'cc-by-4.0', 'name': 'Creative Commons Attribution 4.0 International', 'spdx_id': 'CC-BY-4.0', 'url': 'https://api.github.com/licenses/cc-by-4.0', 'node_id': 'MDc6TGljZW5zZTI1'}, 'allow_forking': True, 'is_template': False, 'web_commit_signoff_required': False, 'topics': ['data'], 'visibility': 'public', 'forks': 11140, 'open_issues': 19, 'watchers': 17119, 'default_branch': 'master', 'permissions': {'admin': False, 'maintain': False, 'push': False, 'triage': False, 'pull': True}, 'score': 1.0}, {'id': 3016562, 'node_id': 'MDEwOlJlcG9zaXRvcnkzMDE2NTYy', 'name': 'data', 'full_name': 'emberjs/data', 'private': False, 'owner': {'login': 'emberjs', 'id': 1253363, 'node_id': 'MDEyOk9yZ2FuaXphdGlvbjEyNTMzNjM=', 'avatar_url': 'https://avatars.githubusercontent.com/u/1253363?v=4', 'gravatar_id': '', 'url': 'https://api.github.com/users/emberjs', 'html_url': 'https://github.com/emberjs', 'followers_url': 'https://api.github.com/users/emberjs/followers', 'following_url': 'https://api.github.com/users/emberjs/following{/other_user}', 'gists_url': 'https://api.github.com/users/emberjs/gists{/gist_id}', 'starred_url': 'https://api.github.com/users/emberjs/starred{/owner}{/repo}', 'subscriptions_url': 'https://api.github.com/users/emberjs/subscriptions', 'organizations_url': 'https://api.github.com/users/emberjs/orgs', 'repos_url': 'https://api.github.com/users/emberjs/repos', 'events_url': 'https://api.github.com/users/emberjs/events{/privacy}', 'received_events_url': 'https://api.github.com/users/emberjs/received_events', 'type': 'Organization', 'user_view_type': 'public', 'site_admin': False}, 'html_url': 'https://github.com/emberjs/data', 'description': 'WarpDrive is a lightweight data library for web apps — universal, typed, reactive, and ready to scale.', 'fork': False, 'url': 'https://api.github.com/repos/emberjs/data', 'forks_url': 'https://api.github.com/repos/emberjs/data/forks', 'keys_url': 'https://api.github.com/repos/emberjs/data/keys{/key_id}', 'collaborators_url': 'https://api.github.com/repos/emberjs/data/collaborators{/collaborator}', 'teams_url': 'https://api.github.com/repos/emberjs/data/teams', 'hooks_url': 'https://api.github.com/repos/emberjs/data/hooks', 'issue_events_url': 'https://api.github.com/repos/emberjs/data/issues/events{/number}', 'events_url': 'https://api.github.com/repos/emberjs/data/events', 'assignees_url': 'https://api.github.com/repos/emberjs/data/assignees{/user}', 'branches_url': 'https://api.github.com/repos/emberjs/data/branches{/branch}', 'tags_url': 'https://api.github.com/repos/emberjs/data/tags', 'blobs_url': 'https://api.github.com/repos/emberjs/data/git/blobs{/sha}', 'git_tags_url': 'https://api.github.com/repos/emberjs/data/git/tags{/sha}', 'git_refs_url': 'https://api.github.com/repos/emberjs/data/git/refs{/sha}', 'trees_url': 'https://api.github.com/repos/emberjs/data/git/trees{/sha}', 'statuses_url': 'https://api.github.com/repos/emberjs/data/statuses/{sha}', 'languages_url': 'https://api.github.com/repos/emberjs/data/languages', 'stargazers_url': 'https://api.github.com/repos/emberjs/data/stargazers', 'contributors_url': 'https://api.github.com/repos/emberjs/data/contributors', 'subscribers_url': 'https://api.github.com/repos/emberjs/data/subscribers', 'subscription_url': 'https://api.github.com/repos/emberjs/data/subscription', 'commits_url': 'https://api.github.com/repos/emberjs/data/commits{/sha}', 'git_commits_url': 'https://api.github.com/repos/emberjs/data/git/commits{/sha}', 'comments_url': 'https://api.github.com/repos/emberjs/data/comments{/number}', 'issue_comment_url': 'https://api.github.com/repos/emberjs/data/issues/comments{/number}', 'contents_url': 'https://api.github.com/repos/emberjs/data/contents/{+path}', 'compare_url': 'https://api.github.com/repos/emberjs/data/compare/{base}...{head}', 'merges_url': 'https://api.github.com/repos/emberjs/data/merges', 'archive_url': 'https://api.github.com/repos/emberjs/data/{archive_format}{/ref}', 'downloads_url': 'https://api.github.com/repos/emberjs/data/downloads', 'issues_url': 'https://api.github.com/repos/emberjs/data/issues{/number}', 'pulls_url': 'https://api.github.com/repos/emberjs/data/pulls{/number}', 'milestones_url': 'https://api.github.com/repos/emberjs/data/milestones{/number}', 'notifications_url': 'https://api.github.com/repos/emberjs/data/notifications{?since,all,participating}', 'labels_url': 'https://api.github.com/repos/emberjs/data/labels{/name}', 'releases_url': 'https://api.github.com/repos/emberjs/data/releases{/id}', 'deployments_url': 'https://api.github.com/repos/emberjs/data/deployments', 'created_at': '2011-12-20T01:50:40Z', 'updated_at': '2025-07-11T05:56:08Z', 'pushed_at': '2025-07-11T06:52:34Z', 'git_url': 'git://github.com/emberjs/data.git', 'ssh_url': 'git@github.com:emberjs/data.git', 'clone_url': 'https://github.com/emberjs/data.git', 'svn_url': 'https://github.com/emberjs/data', 'homepage': 'https://emberjs.github.io/data/', 'size': 349109, 'stargazers_count': 3078, 'watchers_count': 3078, 'language': 'TypeScript', 'has_issues': True, 'has_projects': True, 'has_downloads': True, 'has_wiki': False, 'has_pages': True, 'has_discussions': False, 'forks_count': 1340, 'mirror_url': None, 'archived': False, 'disabled': False, 'open_issues_count': 82, 'license': {'key': 'mit', 'name': 'MIT License', 'spdx_id': 'MIT', 'url': 'https://api.github.com/licenses/mit', 'node_id': 'MDc6TGljZW5zZTEz'}, 'allow_forking': True, 'is_template': False, 'web_commit_signoff_required': False, 'topics': ['data-framework', 'data-loading', 'data-patterns', 'ember', 'ember-data', 'fetch', 'hacktoberfest', 'javascript', 'local-first', 'mpa', 'offline-first', 'reactive-js', 'signals', 'spa', 'typescript', 'warp-drive'], 'visibility': 'public', 'forks': 1340, 'open_issues': 82, 'watchers': 3078, 'default_branch': 'main', 'permissions': {'admin': False, 'maintain': False, 'push': False, 'triage': False, 'pull': True}, 'score': 1.0}, {'id': 35078207, 'node_id': 'MDEwOlJlcG9zaXRvcnkzNTA3ODIwNw==', 'name': 'data', 'full_name': 'GoogleTrends/data', 'private': False, 'owner': {'login': 'GoogleTrends', 'id': 12246185, 'node_id': 'MDEyOk9yZ2FuaXphdGlvbjEyMjQ2MTg1', 'avatar_url': 'https://avatars.githubusercontent.com/u/12246185?v=4', 'gravatar_id': '', 'url': 'https://api.github.com/users/GoogleTrends', 'html_url': 'https://github.com/GoogleTrends', 'followers_url': 'https://api.github.com/users/GoogleTrends/followers', 'following_url': 'https://api.github.com/users/GoogleTrends/following{/other_user}', 'gists_url': 'https://api.github.com/users/GoogleTrends/gists{/gist_id}', 'starred_url': 'https://api.github.com/users/GoogleTrends/starred{/owner}{/repo}', 'subscriptions_url': 'https://api.github.com/users/GoogleTrends/subscriptions', 'organizations_url': 'https://api.github.com/users/GoogleTrends/orgs', 'repos_url': 'https://api.github.com/users/GoogleTrends/repos', 'events_url': 'https://api.github.com/users/GoogleTrends/events{/privacy}', 'received_events_url': 'https://api.github.com/users/GoogleTrends/received_events', 'type': 'Organization', 'user_view_type': 'public', 'site_admin': False}, 'html_url': 'https://github.com/GoogleTrends/data', 'description': 'An index of all open-source data', 'fork': False, 'url': 'https://api.github.com/repos/GoogleTrends/data', 'forks_url': 'https://api.github.com/repos/GoogleTrends/data/forks', 'keys_url': 'https://api.github.com/repos/GoogleTrends/data/keys{/key_id}', 'collaborators_url': 'https://api.github.com/repos/GoogleTrends/data/collaborators{/collaborator}', 'teams_url': 'https://api.github.com/repos/GoogleTrends/data/teams', 'hooks_url': 'https://api.github.com/repos/GoogleTrends/data/hooks', 'issue_events_url': 'https://api.github.com/repos/GoogleTrends/data/issues/events{/number}', 'events_url': 'https://api.github.com/repos/GoogleTrends/data/events', 'assignees_url': 'https://api.github.com/repos/GoogleTrends/data/assignees{/user}', 'branches_url': 'https://api.github.com/repos/GoogleTrends/data/branches{/branch}', 'tags_url': 'https://api.github.com/repos/GoogleTrends/data/tags', 'blobs_url': 'https://api.github.com/repos/GoogleTrends/data/git/blobs{/sha}', 'git_tags_url': 'https://api.github.com/repos/GoogleTrends/data/git/tags{/sha}', 'git_refs_url': 'https://api.github.com/repos/GoogleTrends/data/git/refs{/sha}', 'trees_url': 'https://api.github.com/repos/GoogleTrends/data/git/trees{/sha}', 'statuses_url': 'https://api.github.com/repos/GoogleTrends/data/statuses/{sha}', 'languages_url': 'https://api.github.com/repos/GoogleTrends/data/languages', 'stargazers_url': 'https://api.github.com/repos/GoogleTrends/data/stargazers', 'contributors_url': 'https://api.github.com/repos/GoogleTrends/data/contributors', 'subscribers_url': 'https://api.github.com/repos/GoogleTrends/data/subscribers', 'subscription_url': 'https://api.github.com/repos/GoogleTrends/data/subscription', 'commits_url': 'https://api.github.com/repos/GoogleTrends/data/commits{/sha}', 'git_commits_url': 'https://api.github.com/repos/GoogleTrends/data/git/commits{/sha}', 'comments_url': 'https://api.github.com/repos/GoogleTrends/data/comments{/number}', 'issue_comment_url': 'https://api.github.com/repos/GoogleTrends/data/issues/comments{/number}', 'contents_url': 'https://api.github.com/repos/GoogleTrends/data/contents/{+path}', 'compare_url': 'https://api.github.com/repos/GoogleTrends/data/compare/{base}...{head}', 'merges_url': 'https://api.github.com/repos/GoogleTrends/data/merges', 'archive_url': 'https://api.github.com/repos/GoogleTrends/data/{archive_format}{/ref}', 'downloads_url': 'https://api.github.com/repos/GoogleTrends/data/downloads', 'issues_url': 'https://api.github.com/repos/GoogleTrends/data/issues{/number}', 'pulls_url': 'https://api.github.com/repos/GoogleTrends/data/pulls{/number}', 'milestones_url': 'https://api.github.com/repos/GoogleTrends/data/milestones{/number}', 'notifications_url': 'https://api.github.com/repos/GoogleTrends/data/notifications{?since,all,participating}', 'labels_url': 'https://api.github.com/repos/GoogleTrends/data/labels{/name}', 'releases_url': 'https://api.github.com/repos/GoogleTrends/data/releases{/id}', 'deployments_url': 'https://api.github.com/repos/GoogleTrends/data/deployments', 'created_at': '2015-05-05T04:38:19Z', 'updated_at': '2025-07-10T09:46:51Z', 'pushed_at': '2023-12-24T15:55:29Z', 'git_url': 'git://github.com/GoogleTrends/data.git', 'ssh_url': 'git@github.com:GoogleTrends/data.git', 'clone_url': 'https://github.com/GoogleTrends/data.git', 'svn_url': 'https://github.com/GoogleTrends/data', 'homepage': None, 'size': 381746, 'stargazers_count': 4702, 'watchers_count': 4702, 'language': 'JavaScript', 'has_issues': True, 'has_projects': True, 'has_downloads': True, 'has_wiki': True, 'has_pages': True, 'has_discussions': False, 'forks_count': 454, 'mirror_url': None, 'archived': False, 'disabled': False, 'open_issues_count': 20, 'license': {'key': 'other', 'name': 'Other', 'spdx_id': 'NOASSERTION', 'url': None, 'node_id': 'MDc6TGljZW5zZTA='}, 'allow_forking': True, 'is_template': False, 'web_commit_signoff_required': False, 'topics': [], 'visibility': 'public', 'forks': 454, 'open_issues': 20, 'watchers': 4702, 'default_branch': 'master', 'permissions': {'admin': False, 'maintain': False, 'push': False, 'triage': False, 'pull': True}, 'score': 1.0}, {'id': 24950882, 'node_id': 'MDEwOlJlcG9zaXRvcnkyNDk1MDg4Mg==', 'name': 'data', 'full_name': 'GSA/data', 'private': False, 'owner': {'login': 'GSA', 'id': 643070, 'node_id': 'MDEyOk9yZ2FuaXphdGlvbjY0MzA3MA==', 'avatar_url': 'https://avatars.githubusercontent.com/u/643070?v=4', 'gravatar_id': '', 'url': 'https://api.github.com/users/GSA', 'html_url': 'https://github.com/GSA', 'followers_url': 'https://api.github.com/users/GSA/followers', 'following_url': 'https://api.github.com/users/GSA/following{/other_user}', 'gists_url': 'https://api.github.com/users/GSA/gists{/gist_id}', 'starred_url': 'https://api.github.com/users/GSA/starred{/owner}{/repo}', 'subscriptions_url': 'https://api.github.com/users/GSA/subscriptions', 'organizations_url': 'https://api.github.com/users/GSA/orgs', 'repos_url': 'https://api.github.com/users/GSA/repos', 'events_url': 'https://api.github.com/users/GSA/events{/privacy}', 'received_events_url': 'https://api.github.com/users/GSA/received_events', 'type': 'Organization', 'user_view_type': 'public', 'site_admin': False}, 'html_url': 'https://github.com/GSA/data', 'description': 'Assorted data from the General Services Administration.', 'fork': False, 'url': 'https://api.github.com/repos/GSA/data', 'forks_url': 'https://api.github.com/repos/GSA/data/forks', 'keys_url': 'https://api.github.com/repos/GSA/data/keys{/key_id}', 'collaborators_url': 'https://api.github.com/repos/GSA/data/collaborators{/collaborator}', 'teams_url': 'https://api.github.com/repos/GSA/data/teams', 'hooks_url': 'https://api.github.com/repos/GSA/data/hooks', 'issue_events_url': 'https://api.github.com/repos/GSA/data/issues/events{/number}', 'events_url': 'https://api.github.com/repos/GSA/data/events', 'assignees_url': 'https://api.github.com/repos/GSA/data/assignees{/user}', 'branches_url': 'https://api.github.com/repos/GSA/data/branches{/branch}', 'tags_url': 'https://api.github.com/repos/GSA/data/tags', 'blobs_url': 'https://api.github.com/repos/GSA/data/git/blobs{/sha}', 'git_tags_url': 'https://api.github.com/repos/GSA/data/git/tags{/sha}', 'git_refs_url': 'https://api.github.com/repos/GSA/data/git/refs{/sha}', 'trees_url': 'https://api.github.com/repos/GSA/data/git/trees{/sha}', 'statuses_url': 'https://api.github.com/repos/GSA/data/statuses/{sha}', 'languages_url': 'https://api.github.com/repos/GSA/data/languages', 'stargazers_url': 'https://api.github.com/repos/GSA/data/stargazers', 'contributors_url': 'https://api.github.com/repos/GSA/data/contributors', 'subscribers_url': 'https://api.github.com/repos/GSA/data/subscribers', 'subscription_url': 'https://api.github.com/repos/GSA/data/subscription', 'commits_url': 'https://api.github.com/repos/GSA/data/commits{/sha}', 'git_commits_url': 'https://api.github.com/repos/GSA/data/git/commits{/sha}', 'comments_url': 'https://api.github.com/repos/GSA/data/comments{/number}', 'issue_comment_url': 'https://api.github.com/repos/GSA/data/issues/comments{/number}', 'contents_url': 'https://api.github.com/repos/GSA/data/contents/{+path}', 'compare_url': 'https://api.github.com/repos/GSA/data/compare/{base}...{head}', 'merges_url': 'https://api.github.com/repos/GSA/data/merges', 'archive_url': 'https://api.github.com/repos/GSA/data/{archive_format}{/ref}', 'downloads_url': 'https://api.github.com/repos/GSA/data/downloads', 'issues_url': 'https://api.github.com/repos/GSA/data/issues{/number}', 'pulls_url': 'https://api.github.com/repos/GSA/data/pulls{/number}', 'milestones_url': 'https://api.github.com/repos/GSA/data/milestones{/number}', 'notifications_url': 'https://api.github.com/repos/GSA/data/notifications{?since,all,participating}', 'labels_url': 'https://api.github.com/repos/GSA/data/labels{/name}', 'releases_url': 'https://api.github.com/repos/GSA/data/releases{/id}', 'deployments_url': 'https://api.github.com/repos/GSA/data/deployments', 'created_at': '2014-10-08T16:57:59Z', 'updated_at': '2025-07-10T09:46:55Z', 'pushed_at': '2024-04-17T15:13:48Z', 'git_url': 'git://github.com/GSA/data.git', 'ssh_url': 'git@github.com:GSA/data.git', 'clone_url': 'https://github.com/GSA/data.git', 'svn_url': 'https://github.com/GSA/data', 'homepage': '', 'size': 11381, 'stargazers_count': 2178, 'watchers_count': 2178, 'language': 'HTML', 'has_issues': True, 'has_projects': False, 'has_downloads': True, 'has_wiki': False, 'has_pages': False, 'has_discussions': False, 'forks_count': 276, 'mirror_url': None, 'archived': False, 'disabled': False, 'open_issues_count': 13, 'license': None, 'allow_forking': True, 'is_template': False, 'web_commit_signoff_required': False, 'topics': ['data', 'domains', 'enterprise', 'standards', 'technology'], 'visibility': 'public', 'forks': 276, 'open_issues': 13, 'watchers': 2178, 'default_branch': 'master', 'permissions': {'admin': False, 'maintain': False, 'push': False, 'triage': False, 'pull': True}, 'score': 1.0}, {'id': 55239337, 'node_id': 'MDEwOlJlcG9zaXRvcnk1NTIzOTMzNw==', 'name': 'data', 'full_name': 'aptnotes/data', 'private': False, 'owner': {'login': 'aptnotes', 'id': 17533195, 'node_id': 'MDEyOk9yZ2FuaXphdGlvbjE3NTMzMTk1', 'avatar_url': 'https://avatars.githubusercontent.com/u/17533195?v=4', 'gravatar_id': '', 'url': 'https://api.github.com/users/aptnotes', 'html_url': 'https://github.com/aptnotes', 'followers_url': 'https://api.github.com/users/aptnotes/followers', 'following_url': 'https://api.github.com/users/aptnotes/following{/other_user}', 'gists_url': 'https://api.github.com/users/aptnotes/gists{/gist_id}', 'starred_url': 'https://api.github.com/users/aptnotes/starred{/owner}{/repo}', 'subscriptions_url': 'https://api.github.com/users/aptnotes/subscriptions', 'organizations_url': 'https://api.github.com/users/aptnotes/orgs', 'repos_url': 'https://api.github.com/users/aptnotes/repos', 'events_url': 'https://api.github.com/users/aptnotes/events{/privacy}', 'received_events_url': 'https://api.github.com/users/aptnotes/received_events', 'type': 'Organization', 'user_view_type': 'public', 'site_admin': False}, 'html_url': 'https://github.com/aptnotes/data', 'description': 'APTnotes data', 'fork': False, 'url': 'https://api.github.com/repos/aptnotes/data', 'forks_url': 'https://api.github.com/repos/aptnotes/data/forks', 'keys_url': 'https://api.github.com/repos/aptnotes/data/keys{/key_id}', 'collaborators_url': 'https://api.github.com/repos/aptnotes/data/collaborators{/collaborator}', 'teams_url': 'https://api.github.com/repos/aptnotes/data/teams', 'hooks_url': 'https://api.github.com/repos/aptnotes/data/hooks', 'issue_events_url': 'https://api.github.com/repos/aptnotes/data/issues/events{/number}', 'events_url': 'https://api.github.com/repos/aptnotes/data/events', 'assignees_url': 'https://api.github.com/repos/aptnotes/data/assignees{/user}', 'branches_url': 'https://api.github.com/repos/aptnotes/data/branches{/branch}', 'tags_url': 'https://api.github.com/repos/aptnotes/data/tags', 'blobs_url': 'https://api.github.com/repos/aptnotes/data/git/blobs{/sha}', 'git_tags_url': 'https://api.github.com/repos/aptnotes/data/git/tags{/sha}', 'git_refs_url': 'https://api.github.com/repos/aptnotes/data/git/refs{/sha}', 'trees_url': 'https://api.github.com/repos/aptnotes/data/git/trees{/sha}', 'statuses_url': 'https://api.github.com/repos/aptnotes/data/statuses/{sha}', 'languages_url': 'https://api.github.com/repos/aptnotes/data/languages', 'stargazers_url': 'https://api.github.com/repos/aptnotes/data/stargazers', 'contributors_url': 'https://api.github.com/repos/aptnotes/data/contributors', 'subscribers_url': 'https://api.github.com/repos/aptnotes/data/subscribers', 'subscription_url': 'https://api.github.com/repos/aptnotes/data/subscription', 'commits_url': 'https://api.github.com/repos/aptnotes/data/commits{/sha}', 'git_commits_url': 'https://api.github.com/repos/aptnotes/data/git/commits{/sha}', 'comments_url': 'https://api.github.com/repos/aptnotes/data/comments{/number}', 'issue_comment_url': 'https://api.github.com/repos/aptnotes/data/issues/comments{/number}', 'contents_url': 'https://api.github.com/repos/aptnotes/data/contents/{+path}', 'compare_url': 'https://api.github.com/repos/aptnotes/data/compare/{base}...{head}', 'merges_url': 'https://api.github.com/repos/aptnotes/data/merges', 'archive_url': 'https://api.github.com/repos/aptnotes/data/{archive_format}{/ref}', 'downloads_url': 'https://api.github.com/repos/aptnotes/data/downloads', 'issues_url': 'https://api.github.com/repos/aptnotes/data/issues{/number}', 'pulls_url': 'https://api.github.com/repos/aptnotes/data/pulls{/number}', 'milestones_url': 'https://api.github.com/repos/aptnotes/data/milestones{/number}', 'notifications_url': 'https://api.github.com/repos/aptnotes/data/notifications{?since,all,participating}', 'labels_url': 'https://api.github.com/repos/aptnotes/data/labels{/name}', 'releases_url': 'https://api.github.com/repos/aptnotes/data/releases{/id}', 'deployments_url': 'https://api.github.com/repos/aptnotes/data/deployments', 'created_at': '2016-04-01T14:44:03Z', 'updated_at': '2025-07-10T15:05:06Z', 'pushed_at': '2024-12-16T15:15:17Z', 'git_url': 'git://github.com/aptnotes/data.git', 'ssh_url': 'git@github.com:aptnotes/data.git', 'clone_url': 'https://github.com/aptnotes/data.git', 'svn_url': 'https://github.com/aptnotes/data', 'homepage': '', 'size': 751, 'stargazers_count': 1730, 'watchers_count': 1730, 'language': None, 'has_issues': True, 'has_projects': True, 'has_downloads': True, 'has_wiki': True, 'has_pages': False, 'has_discussions': False, 'forks_count': 284, 'mirror_url': None, 'archived': False, 'disabled': False, 'open_issues_count': 31, 'license': None, 'allow_forking': True, 'is_template': False, 'web_commit_signoff_required': False, 'topics': ['analysis', 'apt', 'malware'], 'visibility': 'public', 'forks': 284, 'open_issues': 31, 'watchers': 1730, 'default_branch': 'master', 'permissions': {'admin': False, 'maintain': False, 'push': False, 'triage': False, 'pull': True}, 'score': 1.0}]}\n"
          ]
        }
      ]
    },
    {
      "cell_type": "code",
      "source": [
        "# Obtener el contenido del directorio raíz del repositorio\n",
        "repo_owner = \"octocat\"\n",
        "repo_name = \"Hello-World\"\n",
        "path = \"\"  # carpeta raíz\n",
        "\n",
        "contents_url = f\"https://api.github.com/repos/{repo_owner}/{repo_name}/contents/{path}\"\n",
        "response = requests.get(contents_url, headers=headers)\n",
        "\n",
        "print(\"Status code:\", response.status_code)\n",
        "\n",
        "# Mostrar archivos y carpetas solo si el request fue exitoso\n",
        "if response.status_code == 200:\n",
        "    contents = response.json()\n",
        "    for item in contents:\n",
        "        print(f\"📄 Name: {item['name']}\")\n",
        "        print(f\"📂 Type: {item['type']}\")\n",
        "        print(f\"🔗 URL: {item['html_url']}\")\n",
        "        print(\"-\" * 40)\n",
        "else:\n",
        "    print(f\"Error {response.status_code}: {response.json()}\")\n",
        "\n"
      ],
      "metadata": {
        "colab": {
          "base_uri": "https://localhost:8080/"
        },
        "id": "HdLVLq0qGaJR",
        "outputId": "5a6c13a9-8ec2-4101-e767-eed69a033a9a"
      },
      "execution_count": null,
      "outputs": [
        {
          "output_type": "stream",
          "name": "stdout",
          "text": [
            "Status code: 200\n",
            "📄 Name: README\n",
            "📂 Type: file\n",
            "🔗 URL: https://github.com/octocat/Hello-World/blob/master/README\n",
            "----------------------------------------\n"
          ]
        }
      ]
    },
    {
      "cell_type": "markdown",
      "source": [],
      "metadata": {
        "id": "qwDjdBabLICO"
      }
    },
    {
      "cell_type": "code",
      "source": [],
      "metadata": {
        "id": "uf7KRhf1LFBX"
      },
      "execution_count": null,
      "outputs": []
    },
    {
      "cell_type": "code",
      "source": [
        "# Buscar repositorios públicos con la palabra clave \"data\"\n",
        "search_url = \"https://api.github.com/search/repositories\"\n",
        "params = {\n",
        "    \"q\": \"data\",\n",
        "    \"per_page\": 5  # para no hacer muchas requests\n",
        "}\n",
        "\n",
        "response = requests.get(search_url, headers=headers, params=params)\n",
        "if response.status_code == 200:\n",
        "    repos = response.json()[\"items\"]\n",
        "    for repo in repos:\n",
        "        print(f\"{repo['full_name']} (⭐ {repo['stargazers_count']})\")\n",
        "else:\n",
        "    print(f\"Error: {response.status_code}\")\n"
      ],
      "metadata": {
        "colab": {
          "base_uri": "https://localhost:8080/"
        },
        "id": "n_yXUABNLMvu",
        "outputId": "b9245a64-5291-4c91-b4e6-223ea7aa4f8f"
      },
      "execution_count": null,
      "outputs": [
        {
          "output_type": "stream",
          "name": "stdout",
          "text": [
            "fivethirtyeight/data (⭐ 17120)\n",
            "emberjs/data (⭐ 3078)\n",
            "GoogleTrends/data (⭐ 4702)\n",
            "GSA/data (⭐ 2178)\n",
            "aptnotes/data (⭐ 1730)\n"
          ]
        }
      ]
    },
    {
      "cell_type": "code",
      "source": [
        "# Ver commits de un repositorio de ejemplo\n",
        "owner = \"octocat\"\n",
        "repo = \"Hello-World\"\n",
        "commits_url = f\"https://api.github.com/repos/{owner}/{repo}/commits\"\n",
        "\n",
        "response = requests.get(commits_url, headers=headers)\n",
        "if response.status_code == 200:\n",
        "    commits = response.json()\n",
        "    for commit in commits[:5]:\n",
        "        print(f\"{commit['sha'][:7]}: {commit['commit']['message']}\")\n",
        "else:\n",
        "    print(f\"Error: {response.status_code}\")\n"
      ],
      "metadata": {
        "colab": {
          "base_uri": "https://localhost:8080/"
        },
        "id": "hiUNl0gILchv",
        "outputId": "4760bc31-8aa2-4065-f8ae-f199a8536ccc"
      },
      "execution_count": null,
      "outputs": [
        {
          "output_type": "stream",
          "name": "stdout",
          "text": [
            "7fd1a60: Merge pull request #6 from Spaceghost/patch-1\n",
            "\n",
            "New line at end of file.\n",
            "7629413: New line at end of file. --Signed off by Spaceghost\n",
            "553c207: first commit\n"
          ]
        }
      ]
    },
    {
      "cell_type": "code",
      "source": [
        "def get_paginated_results(url, params=None):\n",
        "    results = []\n",
        "\n",
        "    while url:\n",
        "        try:\n",
        "            response = requests.get(url, headers=headers, params=params)\n",
        "            response.raise_for_status()  # Lanza excepción si status_code >= 400\n",
        "\n",
        "            data = response.json()\n",
        "            # Si es lista, la agregamos directamente. Si es objeto, lo envolvemos en lista\n",
        "            results.extend(data if isinstance(data, list) else [data])\n",
        "\n",
        "            # Buscar si hay otra página\n",
        "            link = response.headers.get(\"Link\", \"\")\n",
        "            next_url = None\n",
        "            if 'rel=\"next\"' in link:\n",
        "                for part in link.split(','):\n",
        "                    if 'rel=\"next\"' in part:\n",
        "                        next_url = part[part.find(\"<\")+1:part.find(\">\")]\n",
        "                        break\n",
        "            url = next_url\n",
        "            params = None\n",
        "\n",
        "        except requests.exceptions.HTTPError as http_err:\n",
        "            print(f\"❌ HTTP error occurred: {http_err} - Status code: {response.status_code}\")\n",
        "            break\n",
        "        except requests.exceptions.RequestException as req_err:\n",
        "            print(f\"⚠️ Request error: {req_err}\")\n",
        "            break\n",
        "        except Exception as e:\n",
        "            print(f\"🔴 Unexpected error: {e}\")\n",
        "            break\n",
        "\n",
        "    return results\n",
        "\n"
      ],
      "metadata": {
        "id": "7xESC8RvMoF_"
      },
      "execution_count": 1,
      "outputs": []
    },
    {
      "cell_type": "code",
      "source": [
        "# Usamos la función para obtener commits de un repositorio\n",
        "repo_owner = \"octocat\"\n",
        "repo_name = \"Hello-World\"\n",
        "commits_url = f\"https://api.github.com/repos/{repo_owner}/{repo_name}/commits\"\n",
        "\n",
        "commits = get_paginated_results(commits_url)\n",
        "print(\"Total commits obtenidos:\", len(commits))\n",
        "\n",
        "# Mostrar los primeros 3 commits\n",
        "for c in commits[:3]:\n",
        "    print(f\"{c['sha'][:7]}: {c['commit']['message']}\")\n"
      ],
      "metadata": {
        "id": "b5nA5Nb3X4bk",
        "outputId": "f49f2d80-2fc3-4d7b-d48e-24e11f8dc5e6",
        "colab": {
          "base_uri": "https://localhost:8080/"
        }
      },
      "execution_count": 4,
      "outputs": [
        {
          "output_type": "stream",
          "name": "stdout",
          "text": [
            "Total commits obtenidos: 3\n",
            "7fd1a60: Merge pull request #6 from Spaceghost/patch-1\n",
            "\n",
            "New line at end of file.\n",
            "7629413: New line at end of file. --Signed off by Spaceghost\n",
            "553c207: first commit\n"
          ]
        }
      ]
    }
  ]
}
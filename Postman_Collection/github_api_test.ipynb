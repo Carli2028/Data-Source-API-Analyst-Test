{
  "nbformat": 4,
  "nbformat_minor": 0,
  "metadata": {
    "colab": {
      "provenance": []
    },
    "kernelspec": {
      "name": "python3",
      "display_name": "Python 3"
    },
    "language_info": {
      "name": "python"
    }
  },
  "cells": [
    {
      "cell_type": "code",
      "source": [
        "import requests\n",
        "import time\n",
        "import getpass\n",
        "\n",
        "# Pedimos el token sin mostrarlo en pantalla\n",
        "GITHUB_TOKEN = getpass.getpass(\"Ingresa tu GitHub token: \")\n",
        "\n",
        "\n"
      ],
      "metadata": {
        "colab": {
          "base_uri": "https://localhost:8080/"
        },
        "id": "_xSul6-i8WCO",
        "outputId": "97f25aab-f07c-479a-b19d-a33ac20df1e8"
      },
      "execution_count": 56,
      "outputs": [
        {
          "name": "stdout",
          "output_type": "stream",
          "text": [
            "Ingresa tu GitHub token: ··········\n"
          ]
        }
      ]
    },
    {
      "cell_type": "markdown",
      "source": [],
      "metadata": {
        "id": "qwDjdBabLICO"
      }
    },
    {
      "cell_type": "code",
      "source": [
        "import requests\n",
        "import time\n",
        "\n",
        "class GitHubApiClient:\n",
        "    def __init__(self, token):\n",
        "        self.base_url = \"https://api.github.com\"\n",
        "        self.headers = {\n",
        "            \"Authorization\": f\"Bearer {token}\",\n",
        "            \"Accept\": \"application/vnd.github.v3+json\"\n",
        "        }\n",
        "\n",
        "    def _handle_rate_limit(self, response):\n",
        "        if response.status_code == 403 and 'X-RateLimit-Remaining' in response.headers:\n",
        "            remaining = int(response.headers.get('X-RateLimit-Remaining', 1))\n",
        "            if remaining == 0:\n",
        "                reset_time = int(response.headers.get('X-RateLimit-Reset', 0))\n",
        "                wait_seconds = max(reset_time - time.time(), 0) + 1\n",
        "                print(f\"Rate limit alcanzado. Esperando {int(wait_seconds)} segundos...\")\n",
        "                time.sleep(wait_seconds)\n",
        "                return True\n",
        "        return False\n",
        "\n",
        "    def _get(self, endpoint, params=None):\n",
        "        url = f\"{self.base_url}{endpoint}\"\n",
        "        while True:\n",
        "            response = requests.get(url, headers=self.headers, params=params)\n",
        "            if self._handle_rate_limit(response):\n",
        "                continue\n",
        "            if response.status_code == 200:\n",
        "                return response.json()\n",
        "            else:\n",
        "                print(f\"Error {response.status_code} en {url}: {response.text}\")\n",
        "                return None\n",
        "\n",
        "    def get_all_pages(self, endpoint, params=None):\n",
        "        all_data = []\n",
        "        page = 1\n",
        "        per_page = 100\n",
        "        while True:\n",
        "            params_page = params.copy() if params else {}\n",
        "            params_page.update({\"page\": page, \"per_page\": per_page})\n",
        "            data = self._get(endpoint, params=params_page)\n",
        "            if not data:\n",
        "                break\n",
        "            all_data.extend(data)\n",
        "            if len(data) < per_page:\n",
        "                break\n",
        "            page += 1\n",
        "        return all_data\n",
        "\n",
        "    def search_repositories(self, query, sort=\"stars\", order=\"desc\"):\n",
        "        endpoint = \"/search/repositories\"\n",
        "        params = {\"q\": query, \"sort\": sort, \"order\": order}\n",
        "        result = self._get(endpoint, params=params)\n",
        "        if result:\n",
        "            return result.get(\"items\", [])\n",
        "        return []\n",
        "\n",
        "    def list_commits(self, owner, repo):\n",
        "        endpoint = f\"/repos/{owner}/{repo}/commits\"\n",
        "        return self.get_all_pages(endpoint)\n",
        "\n",
        "    def get_repo_contents(self, owner, repo, path=\"\"):\n",
        "        endpoint = f\"/repos/{owner}/{repo}/contents/{path}\"\n",
        "        return self._get(endpoint)\n",
        "\n",
        "\n"
      ],
      "metadata": {
        "id": "n_yXUABNLMvu"
      },
      "execution_count": 69,
      "outputs": []
    },
    {
      "cell_type": "code",
      "source": [
        "client = GitHubApiClient(GITHUB_TOKEN)"
      ],
      "metadata": {
        "id": "hiUNl0gILchv"
      },
      "execution_count": 65,
      "outputs": []
    },
    {
      "cell_type": "code",
      "source": [
        "repos = client.search_repositories(\"data source\")\n",
        "print(f\"Repositorios encontrados: {len(repos)}\")\n",
        "for r in repos[:5]:\n",
        "    print(f\"- {r['full_name']} ⭐ {r['stargazers_count']}\")\n"
      ],
      "metadata": {
        "id": "7xESC8RvMoF_",
        "colab": {
          "base_uri": "https://localhost:8080/"
        },
        "outputId": "6858da81-ac71-492c-d652-9af4b44d6f7f"
      },
      "execution_count": 66,
      "outputs": [
        {
          "output_type": "stream",
          "name": "stdout",
          "text": [
            "Repositorios encontrados: 30\n",
            "- grafana/grafana ⭐ 68929\n",
            "- AppFlowy-IO/AppFlowy ⭐ 64356\n",
            "- metabase/metabase ⭐ 42723\n",
            "- AykutSarac/jsoncrack.com ⭐ 39372\n",
            "- getredash/redash ⭐ 27519\n"
          ]
        }
      ]
    },
    {
      "cell_type": "code",
      "source": [
        "if repos:\n",
        "    owner, repo = repos[0]['owner']['login'], repos[0]['name']\n",
        "    print(f\"Obteniendo commits de {owner}/{repo} (limitado a 30)...\")\n",
        "    try:\n",
        "        # Hacemos una llamada simple para traer solo los primeros 30 commits\n",
        "        endpoint = f\"/repos/{owner}/{repo}/commits\"\n",
        "        params = {\"per_page\": 30}\n",
        "        commits = client._get(endpoint, params=params)  # Usamos método interno para no paginar todo\n",
        "        print(f\"Total commits obtenidos: {len(commits)}\")\n",
        "        for c in commits[:3]:\n",
        "            print(f\"- {c['commit']['message']}\")\n",
        "    except Exception as e:\n",
        "        print(\"❌ ERROR al obtener commits:\", e)\n",
        "else:\n",
        "    print(\"No hay repositorios para listar commits.\")"
      ],
      "metadata": {
        "id": "b5nA5Nb3X4bk",
        "outputId": "fe32c838-5137-4a58-f440-7f39c907cb72",
        "colab": {
          "base_uri": "https://localhost:8080/"
        }
      },
      "execution_count": 67,
      "outputs": [
        {
          "output_type": "stream",
          "name": "stdout",
          "text": [
            "Obteniendo commits de grafana/grafana (limitado a 30)...\n",
            "Total commits obtenidos: 30\n",
            "- docs: Clarifying the support level of SCIM (#108034)\n",
            "- Chore: Fix releaseFinder script perf (#108035)\n",
            "\n",
            "* baldm0mma/ speed up branch loop\n",
            "\n",
            "* baldm0mma/ rem unneeded comment\n",
            "\n",
            "* baldm0mma/ update release output format\n",
            "\n",
            "* baldm0mma/ refactor\n",
            "- Secrets: Bump API version to v1beta1 (#108026)\n"
          ]
        }
      ]
    },
    {
      "cell_type": "code",
      "source": [
        "if repos:\n",
        "    owner, repo = repos[0]['owner']['login'], repos[0]['name']\n",
        "    contents = client.get_repo_contents(owner, repo)\n",
        "    if contents:\n",
        "        print(f\"Contenido raíz de {owner}/{repo}:\")\n",
        "        for item in contents:\n",
        "            print(f\"- {item['type']} {item['name']}\")\n"
      ],
      "metadata": {
        "colab": {
          "base_uri": "https://localhost:8080/"
        },
        "id": "prUbtj18onyU",
        "outputId": "6e109324-a960-4b51-c203-2dfc34efee4f"
      },
      "execution_count": 68,
      "outputs": [
        {
          "output_type": "stream",
          "name": "stdout",
          "text": [
            "Contenido raíz de grafana/grafana:\n",
            "- file .air.toml\n",
            "- file .betterer.eslint.config.js\n",
            "- file .betterer.results\n",
            "- file .betterer.ts\n",
            "- dir .bingo\n",
            "- file .bra.toml\n",
            "- file .browserslistrc\n",
            "- dir .changelog-archive\n",
            "- dir .citools\n",
            "- file .dockerignore\n",
            "- file .drone.star\n",
            "- file .drone.yml\n",
            "- file .editorconfig\n",
            "- file .gitattributes\n",
            "- dir .github\n",
            "- file .gitignore\n",
            "- file .golangci.yml\n",
            "- dir .husky\n",
            "- file .ignore\n",
            "- file .levignore.js\n",
            "- file .nvmrc\n",
            "- file .nxignore\n",
            "- file .prettierignore\n",
            "- file .prettierrc.js\n",
            "- file .trivyignore\n",
            "- file .vale.ini\n",
            "- dir .vim\n",
            "- dir .vscode\n",
            "- dir .yarn\n",
            "- file .yarnrc.yml\n",
            "- file CHANGELOG.md\n",
            "- file CODE_OF_CONDUCT.md\n",
            "- file CONTRIBUTING.md\n",
            "- file Dockerfile\n",
            "- file GOVERNANCE.md\n",
            "- file HALL_OF_FAME.md\n",
            "- file LICENSE\n",
            "- file LICENSING.md\n",
            "- file MAINTAINERS.md\n",
            "- file Makefile\n",
            "- file NOTICE.md\n",
            "- file README.md\n",
            "- file ROADMAP.md\n",
            "- file SECURITY.md\n",
            "- file SUPPORT.md\n",
            "- file WORKFLOW.md\n",
            "- dir apps\n",
            "- file build.go\n",
            "- dir conf\n",
            "- dir contribute\n",
            "- file crowdin.yml\n",
            "- dir cue.mod\n",
            "- file cypress.config.js\n",
            "- dir devenv\n",
            "- dir docs\n",
            "- dir e2e-playwright\n",
            "- dir e2e\n",
            "- dir emails\n",
            "- file embed.go\n",
            "- file eslint.config.js\n",
            "- file go.mod\n",
            "- file go.sum\n",
            "- file go.work\n",
            "- file go.work.sum\n",
            "- dir grafana-mixin\n",
            "- dir hack\n",
            "- file jest.config.js\n",
            "- dir kinds\n",
            "- dir kindsv2\n",
            "- file latest.json\n",
            "- file lefthook.rc\n",
            "- file lefthook.yml\n",
            "- file lerna.json\n",
            "- dir local\n",
            "- file nx.json\n",
            "- file package.json\n",
            "- dir packages\n",
            "- dir packaging\n",
            "- dir pkg\n",
            "- file playwright.config.ts\n",
            "- file playwright.storybook.config.ts\n",
            "- file project.json\n",
            "- dir public\n",
            "- file relyance.yaml\n",
            "- dir scripts\n",
            "- file stylelint.config.js\n",
            "- dir tools\n",
            "- file tsconfig.json\n",
            "- file yarn.lock\n"
          ]
        }
      ]
    }
  ]
}
